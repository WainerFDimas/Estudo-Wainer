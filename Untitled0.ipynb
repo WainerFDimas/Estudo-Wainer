{
  "nbformat": 4,
  "nbformat_minor": 0,
  "metadata": {
    "colab": {
      "provenance": [],
      "collapsed_sections": [],
      "authorship_tag": "ABX9TyPaVxWiE67m4d5JC3GNsodS",
      "include_colab_link": true
    },
    "kernelspec": {
      "name": "python3",
      "display_name": "Python 3"
    },
    "language_info": {
      "name": "python"
    }
  },
  "cells": [
    {
      "cell_type": "markdown",
      "metadata": {
        "id": "view-in-github",
        "colab_type": "text"
      },
      "source": [
        "<a href=\"https://colab.research.google.com/github/WainerFDimas/Estudo-Wainer/blob/main/Untitled0.ipynb\" target=\"_parent\"><img src=\"https://colab.research.google.com/assets/colab-badge.svg\" alt=\"Open In Colab\"/></a>"
      ]
    },
    {
      "cell_type": "code",
      "execution_count": null,
      "metadata": {
        "colab": {
          "base_uri": "https://localhost:8080/"
        },
        "id": "Xbxl4oygcAuZ",
        "outputId": "b96f9510-f0a5-4959-f7f6-e12bbec74d52"
      },
      "outputs": [
        {
          "output_type": "stream",
          "name": "stdout",
          "text": [
            "Olá, bem vindo ao mundo da programação Python\n"
          ]
        }
      ],
      "source": [
        "print(\"Olá, bem vindo ao mundo da programação Python\")"
      ]
    },
    {
      "cell_type": "code",
      "source": [
        "mensagem = \"Olá, bem vindo ao mundo da programação Python\"\n",
        "print(mensagem)"
      ],
      "metadata": {
        "colab": {
          "base_uri": "https://localhost:8080/"
        },
        "id": "8iL8yU5CMkI2",
        "outputId": "600594f6-a2e4-42bd-c83c-d0187762940a"
      },
      "execution_count": null,
      "outputs": [
        {
          "output_type": "stream",
          "name": "stdout",
          "text": [
            "Olá, bem vindo ao mundo da programação Python\n"
          ]
        }
      ]
    },
    {
      "cell_type": "code",
      "source": [
        "mensagem = input(\"Por favor, digite uma texto qualquer: \")\n",
        "print(\"Você digitou: \"+mensagem)\n"
      ],
      "metadata": {
        "colab": {
          "base_uri": "https://localhost:8080/"
        },
        "id": "WLbNnZpiODfm",
        "outputId": "0475a089-8121-43fb-fae2-5d4b702c1575"
      },
      "execution_count": null,
      "outputs": [
        {
          "output_type": "stream",
          "name": "stdout",
          "text": [
            "Por favor, digite uma texto qualquer: Olá, bem vindo ao mundo da programação Python\n",
            "Você digitou: Olá, bem vindo ao mundo da programação Python\n"
          ]
        }
      ]
    },
    {
      "cell_type": "code",
      "source": [
        "mensagem = \"Olá, bem vindo ao mundo da programação Python\"\n",
        "print(mensagem.lower())"
      ],
      "metadata": {
        "colab": {
          "base_uri": "https://localhost:8080/"
        },
        "id": "Axasto9kP1b5",
        "outputId": "359b76e5-4447-4d2e-b672-03ea30955aa7"
      },
      "execution_count": null,
      "outputs": [
        {
          "output_type": "stream",
          "name": "stdout",
          "text": [
            "olá, bem vindo ao mundo da programação python\n"
          ]
        }
      ]
    },
    {
      "cell_type": "code",
      "source": [
        "mensagem = \"Olá, bem vindo ao mundo da programação Python\"\n",
        "print(mensagem.title())"
      ],
      "metadata": {
        "colab": {
          "base_uri": "https://localhost:8080/"
        },
        "id": "Lf95wbHrQm4f",
        "outputId": "7a306218-3910-418f-e36e-5a55d9b5acbe"
      },
      "execution_count": null,
      "outputs": [
        {
          "output_type": "stream",
          "name": "stdout",
          "text": [
            "Olá, Bem Vindo Ao Mundo Da Programação Python\n"
          ]
        }
      ]
    },
    {
      "cell_type": "code",
      "source": [
        "mensagem = \"Olá, bem vindo ao mundo da programação Python\"\n",
        "print(mensagem.upper())"
      ],
      "metadata": {
        "colab": {
          "base_uri": "https://localhost:8080/"
        },
        "id": "Sih2SAe2Qs7e",
        "outputId": "c56ac11e-20fb-45c2-82fa-8c7b72c2b2a8"
      },
      "execution_count": null,
      "outputs": [
        {
          "output_type": "stream",
          "name": "stdout",
          "text": [
            "OLÁ, BEM VINDO AO MUNDO DA PROGRAMAÇÃO PYTHON\n"
          ]
        }
      ]
    },
    {
      "cell_type": "code",
      "source": [
        "nome = input(\"Digite seu nome: \")\n",
        "telefone = input(\"Digite seu número de telefone: \")\n",
        "email = input(\"Digite seu melhor email: \")\n",
        "print(\"Nome: \"+nome+\" - Telefone: \"+telefone+\" - email: \"+email)"
      ],
      "metadata": {
        "colab": {
          "base_uri": "https://localhost:8080/"
        },
        "id": "gS-DL9uqRHoR",
        "outputId": "90ec9196-3e39-4712-d805-3ac726716e5c"
      },
      "execution_count": null,
      "outputs": [
        {
          "output_type": "stream",
          "name": "stdout",
          "text": [
            "Digite seu nome: wainer\n",
            "Digite seu número de telefone: 37988162176\n",
            "Digite seu melhor email: wfddimas@gmail.com\n",
            "Nome: wainer - Telefone: 37988162176 - email: wfddimas@gmail.com\n"
          ]
        }
      ]
    },
    {
      "cell_type": "code",
      "source": [
        "nome = input(\"Digite seu nome: \")\n",
        "telefone = input(\"Digite seu número de telefone: \")\n",
        "email = input(\"Digite seu melhor email: \")\n",
        "textoDigitado = \"Nome: %s - telefone: %s - email: %s\" %(nome, telefone, email)\n",
        "print(textoDigitado)"
      ],
      "metadata": {
        "colab": {
          "base_uri": "https://localhost:8080/"
        },
        "id": "-Z6IZWgLTMwH",
        "outputId": "bd3f4708-6d50-4721-a486-f44d60124bfd"
      },
      "execution_count": null,
      "outputs": [
        {
          "output_type": "stream",
          "name": "stdout",
          "text": [
            "Digite seu nome: wainer\n",
            "Digite seu número de telefone: 37988162176\n",
            "Digite seu melhor email: wfddimas@gmail.com\n",
            "Nome: wainer - telefone: 37988162176 - email: wfddimas@gmail.com\n"
          ]
        }
      ]
    },
    {
      "cell_type": "code",
      "source": [
        "help(\"keywords\")"
      ],
      "metadata": {
        "colab": {
          "base_uri": "https://localhost:8080/"
        },
        "id": "dTfvc4wvWdPm",
        "outputId": "ac5a26f3-7b6c-485f-9603-9574344608cf"
      },
      "execution_count": null,
      "outputs": [
        {
          "output_type": "stream",
          "name": "stdout",
          "text": [
            "\n",
            "Here is a list of the Python keywords.  Enter any keyword to get more help.\n",
            "\n",
            "False               class               from                or\n",
            "None                continue            global              pass\n",
            "True                def                 if                  raise\n",
            "and                 del                 import              return\n",
            "as                  elif                in                  try\n",
            "assert              else                is                  while\n",
            "async               except              lambda              with\n",
            "await               finally             nonlocal            yield\n",
            "break               for                 not                 \n",
            "\n"
          ]
        }
      ]
    },
    {
      "cell_type": "code",
      "source": [
        "valorA = 10\n",
        "valorB = int(20.55)\n",
        "valorC = int(valorA + valorB)\n",
        "print(valorA,valorB,valorC)\n",
        "print(type(valorA), type(valorB), type(valorC))"
      ],
      "metadata": {
        "colab": {
          "base_uri": "https://localhost:8080/"
        },
        "id": "IafmjM4NXreA",
        "outputId": "f24224cc-7dca-4008-e80e-33146a598807"
      },
      "execution_count": null,
      "outputs": [
        {
          "output_type": "stream",
          "name": "stdout",
          "text": [
            "10 20 30\n",
            "<class 'int'> <class 'int'> <class 'int'>\n"
          ]
        }
      ]
    },
    {
      "cell_type": "code",
      "source": [
        "# Operações Aritméticas\n",
        "A = 10\n",
        "B = 20\n",
        "# Adição\n",
        "c = A+B\n",
        "print(c)\n",
        "#subtração\n",
        "d = A - B\n",
        "print(d)\n",
        "# multiplicação\n",
        "e = A * B\n",
        "print (e)\n",
        "f = A / B\n",
        "print (f)\n",
        "# exponenciação\n",
        "g = A ** B\n",
        "print (g)"
      ],
      "metadata": {
        "colab": {
          "base_uri": "https://localhost:8080/"
        },
        "id": "D7KLYSOJfzbd",
        "outputId": "5e3a5118-7049-4c07-d9f6-fe06c6c2fd61"
      },
      "execution_count": null,
      "outputs": [
        {
          "output_type": "stream",
          "name": "stdout",
          "text": [
            "30\n",
            "-10\n",
            "200\n",
            "0.5\n",
            "100000000000000000000\n"
          ]
        }
      ]
    },
    {
      "cell_type": "code",
      "source": [
        "a = 10.37\n",
        "b = 7.75\n",
        "c = a * b\n",
        "print (c)\n",
        "resultado = \"Resultado: {:7.4f} \".format(c)\n",
        "print(resultado)"
      ],
      "metadata": {
        "colab": {
          "base_uri": "https://localhost:8080/"
        },
        "id": "s1_xDhftg7Ac",
        "outputId": "8e2f8beb-e66d-4fa6-ee81-066e01fb4274"
      },
      "execution_count": null,
      "outputs": [
        {
          "output_type": "stream",
          "name": "stdout",
          "text": [
            "80.36749999999999\n",
            "Resultado: 80.3675 \n"
          ]
        }
      ]
    },
    {
      "cell_type": "code",
      "source": [
        "a = 2+4j\n",
        "b = 6+3j\n",
        "c = a + b\n",
        "print(type(a), type(b), type(c))\n",
        "print(c)"
      ],
      "metadata": {
        "colab": {
          "base_uri": "https://localhost:8080/"
        },
        "id": "FDhCn0aFinxK",
        "outputId": "3e3816d3-22ab-4b0f-d673-6ac01ecfba9f"
      },
      "execution_count": null,
      "outputs": [
        {
          "output_type": "stream",
          "name": "stdout",
          "text": [
            "<class 'complex'> <class 'complex'> <class 'complex'>\n",
            "(8+7j)\n"
          ]
        }
      ]
    },
    {
      "cell_type": "code",
      "source": [
        "a = 10.85\n",
        "b = 2\n",
        "c = 4\n",
        "\n",
        "print(int(a))\n",
        "print(complex(b))\n",
        "print(pow(b,c))\n",
        "print(int(abs(a)))"
      ],
      "metadata": {
        "colab": {
          "base_uri": "https://localhost:8080/"
        },
        "id": "bWtqyaJxkZ6U",
        "outputId": "1a8f066a-8952-4f2d-b3d1-bc176f57bafe"
      },
      "execution_count": null,
      "outputs": [
        {
          "output_type": "stream",
          "name": "stdout",
          "text": [
            "10\n",
            "(2+0j)\n",
            "16\n",
            "10\n"
          ]
        }
      ]
    }
  ]
}
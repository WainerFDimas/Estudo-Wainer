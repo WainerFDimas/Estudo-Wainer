{
  "nbformat": 4,
  "nbformat_minor": 0,
  "metadata": {
    "colab": {
      "provenance": [],
      "collapsed_sections": [],
      "authorship_tag": "ABX9TyP/fH99KpKmBn5dEA/MQcZj",
      "include_colab_link": true
    },
    "kernelspec": {
      "name": "python3",
      "display_name": "Python 3"
    },
    "language_info": {
      "name": "python"
    }
  },
  "cells": [
    {
      "cell_type": "markdown",
      "metadata": {
        "id": "view-in-github",
        "colab_type": "text"
      },
      "source": [
        "<a href=\"https://colab.research.google.com/github/WainerFDimas/Estudo-Wainer/blob/main/Estudo_Wainer.ipynb\" target=\"_parent\"><img src=\"https://colab.research.google.com/assets/colab-badge.svg\" alt=\"Open In Colab\"/></a>"
      ]
    },
    {
      "cell_type": "code",
      "execution_count": null,
      "metadata": {
        "colab": {
          "base_uri": "https://localhost:8080/"
        },
        "id": "Xbxl4oygcAuZ",
        "outputId": "b96f9510-f0a5-4959-f7f6-e12bbec74d52"
      },
      "outputs": [
        {
          "output_type": "stream",
          "name": "stdout",
          "text": [
            "Olá, bem vindo ao mundo da programação Python\n"
          ]
        }
      ],
      "source": [
        "print(\"Olá, bem vindo ao mundo da programação Python\")"
      ]
    },
    {
      "cell_type": "code",
      "source": [
        "mensagem = \"Olá, bem vindo ao mundo da programação Python\"\n",
        "print(mensagem)"
      ],
      "metadata": {
        "colab": {
          "base_uri": "https://localhost:8080/"
        },
        "id": "8iL8yU5CMkI2",
        "outputId": "600594f6-a2e4-42bd-c83c-d0187762940a"
      },
      "execution_count": null,
      "outputs": [
        {
          "output_type": "stream",
          "name": "stdout",
          "text": [
            "Olá, bem vindo ao mundo da programação Python\n"
          ]
        }
      ]
    },
    {
      "cell_type": "code",
      "source": [
        "mensagem = input(\"Por favor, digite uma texto qualquer: \")\n",
        "print(\"Você digitou: \"+mensagem)\n"
      ],
      "metadata": {
        "colab": {
          "base_uri": "https://localhost:8080/"
        },
        "id": "WLbNnZpiODfm",
        "outputId": "0475a089-8121-43fb-fae2-5d4b702c1575"
      },
      "execution_count": null,
      "outputs": [
        {
          "output_type": "stream",
          "name": "stdout",
          "text": [
            "Por favor, digite uma texto qualquer: Olá, bem vindo ao mundo da programação Python\n",
            "Você digitou: Olá, bem vindo ao mundo da programação Python\n"
          ]
        }
      ]
    },
    {
      "cell_type": "code",
      "source": [
        "mensagem = \"Olá, bem vindo ao mundo da programação Python\"\n",
        "print(mensagem.lower())"
      ],
      "metadata": {
        "colab": {
          "base_uri": "https://localhost:8080/"
        },
        "id": "Axasto9kP1b5",
        "outputId": "359b76e5-4447-4d2e-b672-03ea30955aa7"
      },
      "execution_count": null,
      "outputs": [
        {
          "output_type": "stream",
          "name": "stdout",
          "text": [
            "olá, bem vindo ao mundo da programação python\n"
          ]
        }
      ]
    },
    {
      "cell_type": "code",
      "source": [
        "mensagem = \"Olá, bem vindo ao mundo da programação Python\"\n",
        "print(mensagem.title())"
      ],
      "metadata": {
        "colab": {
          "base_uri": "https://localhost:8080/"
        },
        "id": "Lf95wbHrQm4f",
        "outputId": "7a306218-3910-418f-e36e-5a55d9b5acbe"
      },
      "execution_count": null,
      "outputs": [
        {
          "output_type": "stream",
          "name": "stdout",
          "text": [
            "Olá, Bem Vindo Ao Mundo Da Programação Python\n"
          ]
        }
      ]
    },
    {
      "cell_type": "code",
      "source": [
        "mensagem = \"Olá, bem vindo ao mundo da programação Python\"\n",
        "print(mensagem.upper())"
      ],
      "metadata": {
        "colab": {
          "base_uri": "https://localhost:8080/"
        },
        "id": "Sih2SAe2Qs7e",
        "outputId": "c56ac11e-20fb-45c2-82fa-8c7b72c2b2a8"
      },
      "execution_count": null,
      "outputs": [
        {
          "output_type": "stream",
          "name": "stdout",
          "text": [
            "OLÁ, BEM VINDO AO MUNDO DA PROGRAMAÇÃO PYTHON\n"
          ]
        }
      ]
    },
    {
      "cell_type": "code",
      "source": [
        "nome = input(\"Digite seu nome: \")\n",
        "telefone = input(\"Digite seu número de telefone: \")\n",
        "email = input(\"Digite seu melhor email: \")\n",
        "print(\"Nome: \"+nome+\" - Telefone: \"+telefone+\" - email: \"+email)"
      ],
      "metadata": {
        "colab": {
          "base_uri": "https://localhost:8080/"
        },
        "id": "gS-DL9uqRHoR",
        "outputId": "90ec9196-3e39-4712-d805-3ac726716e5c"
      },
      "execution_count": null,
      "outputs": [
        {
          "output_type": "stream",
          "name": "stdout",
          "text": [
            "Digite seu nome: wainer\n",
            "Digite seu número de telefone: 37988162176\n",
            "Digite seu melhor email: wfddimas@gmail.com\n",
            "Nome: wainer - Telefone: 37988162176 - email: wfddimas@gmail.com\n"
          ]
        }
      ]
    },
    {
      "cell_type": "code",
      "source": [
        "nome = input(\"Digite seu nome: \")\n",
        "telefone = input(\"Digite seu número de telefone: \")\n",
        "email = input(\"Digite seu melhor email: \")\n",
        "textoDigitado = \"Nome: %s - telefone: %s - email: %s\" %(nome, telefone, email)\n",
        "print(textoDigitado)"
      ],
      "metadata": {
        "colab": {
          "base_uri": "https://localhost:8080/"
        },
        "id": "-Z6IZWgLTMwH",
        "outputId": "bd3f4708-6d50-4721-a486-f44d60124bfd"
      },
      "execution_count": null,
      "outputs": [
        {
          "output_type": "stream",
          "name": "stdout",
          "text": [
            "Digite seu nome: wainer\n",
            "Digite seu número de telefone: 37988162176\n",
            "Digite seu melhor email: wfddimas@gmail.com\n",
            "Nome: wainer - telefone: 37988162176 - email: wfddimas@gmail.com\n"
          ]
        }
      ]
    },
    {
      "cell_type": "code",
      "source": [
        "help(\"keywords\")"
      ],
      "metadata": {
        "colab": {
          "base_uri": "https://localhost:8080/"
        },
        "id": "dTfvc4wvWdPm",
        "outputId": "ac5a26f3-7b6c-485f-9603-9574344608cf"
      },
      "execution_count": null,
      "outputs": [
        {
          "output_type": "stream",
          "name": "stdout",
          "text": [
            "\n",
            "Here is a list of the Python keywords.  Enter any keyword to get more help.\n",
            "\n",
            "False               class               from                or\n",
            "None                continue            global              pass\n",
            "True                def                 if                  raise\n",
            "and                 del                 import              return\n",
            "as                  elif                in                  try\n",
            "assert              else                is                  while\n",
            "async               except              lambda              with\n",
            "await               finally             nonlocal            yield\n",
            "break               for                 not                 \n",
            "\n"
          ]
        }
      ]
    },
    {
      "cell_type": "code",
      "source": [
        "valorA = 10\n",
        "valorB = int(20.55)\n",
        "valorC = int(valorA + valorB)\n",
        "print(valorA,valorB,valorC)\n",
        "print(type(valorA), type(valorB), type(valorC))"
      ],
      "metadata": {
        "colab": {
          "base_uri": "https://localhost:8080/"
        },
        "id": "IafmjM4NXreA",
        "outputId": "f24224cc-7dca-4008-e80e-33146a598807"
      },
      "execution_count": null,
      "outputs": [
        {
          "output_type": "stream",
          "name": "stdout",
          "text": [
            "10 20 30\n",
            "<class 'int'> <class 'int'> <class 'int'>\n"
          ]
        }
      ]
    },
    {
      "cell_type": "code",
      "source": [
        "# Operações Aritméticas\n",
        "A = 10\n",
        "B = 20\n",
        "# Adição\n",
        "c = A+B\n",
        "print(c)\n",
        "#subtração\n",
        "d = A - B\n",
        "print(d)\n",
        "# multiplicação\n",
        "e = A * B\n",
        "print (e)\n",
        "f = A / B\n",
        "print (f)\n",
        "# exponenciação\n",
        "g = A ** B\n",
        "print (g)"
      ],
      "metadata": {
        "colab": {
          "base_uri": "https://localhost:8080/"
        },
        "id": "D7KLYSOJfzbd",
        "outputId": "5e3a5118-7049-4c07-d9f6-fe06c6c2fd61"
      },
      "execution_count": null,
      "outputs": [
        {
          "output_type": "stream",
          "name": "stdout",
          "text": [
            "30\n",
            "-10\n",
            "200\n",
            "0.5\n",
            "100000000000000000000\n"
          ]
        }
      ]
    },
    {
      "cell_type": "code",
      "source": [
        "a = 10.37\n",
        "b = 7.75\n",
        "c = a * b\n",
        "print (c)\n",
        "resultado = \"Resultado: {:7.4f} \".format(c)\n",
        "print(resultado)"
      ],
      "metadata": {
        "colab": {
          "base_uri": "https://localhost:8080/"
        },
        "id": "s1_xDhftg7Ac",
        "outputId": "8e2f8beb-e66d-4fa6-ee81-066e01fb4274"
      },
      "execution_count": null,
      "outputs": [
        {
          "output_type": "stream",
          "name": "stdout",
          "text": [
            "80.36749999999999\n",
            "Resultado: 80.3675 \n"
          ]
        }
      ]
    },
    {
      "cell_type": "code",
      "source": [
        "a = 2+4j\n",
        "b = 6+3j\n",
        "c = a + b\n",
        "print(type(a), type(b), type(c))\n",
        "print(c)"
      ],
      "metadata": {
        "colab": {
          "base_uri": "https://localhost:8080/"
        },
        "id": "FDhCn0aFinxK",
        "outputId": "3e3816d3-22ab-4b0f-d673-6ac01ecfba9f"
      },
      "execution_count": null,
      "outputs": [
        {
          "output_type": "stream",
          "name": "stdout",
          "text": [
            "<class 'complex'> <class 'complex'> <class 'complex'>\n",
            "(8+7j)\n"
          ]
        }
      ]
    },
    {
      "cell_type": "code",
      "source": [
        "a = 10.85\n",
        "b = 2\n",
        "c = 4\n",
        "\n",
        "print(int(a))\n",
        "print(complex(b))\n",
        "print(pow(b,c))\n",
        "print(int(abs(a)))"
      ],
      "metadata": {
        "colab": {
          "base_uri": "https://localhost:8080/"
        },
        "id": "bWtqyaJxkZ6U",
        "outputId": "1a8f066a-8952-4f2d-b3d1-bc176f57bafe"
      },
      "execution_count": null,
      "outputs": [
        {
          "output_type": "stream",
          "name": "stdout",
          "text": [
            "10\n",
            "(2+0j)\n",
            "16\n",
            "10\n"
          ]
        }
      ]
    },
    {
      "cell_type": "code",
      "source": [
        "print(hex(10))\n",
        "print(oct(10))"
      ],
      "metadata": {
        "colab": {
          "base_uri": "https://localhost:8080/"
        },
        "id": "IX1_vj3VGhJU",
        "outputId": "f4233ef2-f2a2-4e38-bbea-f6fb2e3b3c70"
      },
      "execution_count": null,
      "outputs": [
        {
          "output_type": "stream",
          "name": "stdout",
          "text": [
            "0xa\n",
            "0o12\n"
          ]
        }
      ]
    },
    {
      "cell_type": "code",
      "source": [
        "a = 12.5678\n",
        "print(round(a,3))\n",
        "print(round(a,2))\n",
        "print(round(a,1))\n",
        "print(round(a,0))\n",
        "print(round(a,-1))"
      ],
      "metadata": {
        "colab": {
          "base_uri": "https://localhost:8080/"
        },
        "id": "ayNggWLnJ_C7",
        "outputId": "52caa54a-60cf-4a21-8c3c-329333b1096c"
      },
      "execution_count": null,
      "outputs": [
        {
          "output_type": "stream",
          "name": "stdout",
          "text": [
            "12.568\n",
            "12.57\n",
            "12.6\n",
            "13.0\n",
            "10.0\n"
          ]
        }
      ]
    },
    {
      "cell_type": "code",
      "source": [
        "a = 10\n",
        "b = 11\n",
        "c = a < b\n",
        "c = a > b\n",
        "c = a != b\n",
        "print(type(c))\n",
        "print (c)\n",
        "print (c)\n",
        "print (c)"
      ],
      "metadata": {
        "colab": {
          "base_uri": "https://localhost:8080/"
        },
        "id": "PSjs0IlQMKg9",
        "outputId": "f4d4ca05-b49b-41a8-c4bd-f9bf61103c82"
      },
      "execution_count": null,
      "outputs": [
        {
          "output_type": "stream",
          "name": "stdout",
          "text": [
            "<class 'bool'>\n",
            "True\n",
            "True\n",
            "True\n"
          ]
        }
      ]
    },
    {
      "cell_type": "code",
      "source": [
        "# operadores logicos\n",
        "# and - or - not\n",
        "a = 10\n",
        "b = 20\n",
        "c = (a and b) >20\n",
        "print(type(c))\n",
        "print(c)\n",
        "\n",
        "# and - or - not\n",
        "a = 21\n",
        "b = 24\n",
        "c = (a or b)\n",
        "print(c)\n",
        "\n",
        "a = 21\n",
        "b = 24\n",
        "c = ( not a)\n",
        "print(c)"
      ],
      "metadata": {
        "colab": {
          "base_uri": "https://localhost:8080/"
        },
        "id": "smY-OZKsOadG",
        "outputId": "3ab20e7c-717c-4fb5-c560-a2f560868e19"
      },
      "execution_count": null,
      "outputs": [
        {
          "output_type": "stream",
          "name": "stdout",
          "text": [
            "<class 'bool'>\n",
            "False\n",
            "21\n",
            "False\n"
          ]
        }
      ]
    },
    {
      "cell_type": "code",
      "source": [
        "  # saldo é R$100,00\n",
        "  # pode sacar qualquer valor até R$100,00\n",
        "  # sacar R$80,00 - ok saldo restante R$20,00\n",
        "  # sacar R$10,00 - ok saldo restante R$10,00\n",
        "  # sacar R$25,00 - negado sem saldo\n",
        "saldo =100\n",
        "\n",
        "if saldo>=0: print(\"Seu saldo atual é R$ %d \" % (saldo))\n",
        "\n",
        "if saldo<0: print(\"Seu saldo atual é (negativo) R$ %d \" % (saldo))\n",
        "\n",
        "valorsaque = 80\n",
        "\n",
        "if saldo-valorsaque>=0: print( \"Saque efetuado - R$ %d \" % (valorsaque))\n",
        "\n",
        "saldo = saldo - valorsaque\n",
        "\n",
        "if saldo>=0: print(\"Seu saldo atual é R$ %d \" % (saldo))\n",
        "\n",
        "valorsaque = 10\n",
        "\n",
        "if saldo-valorsaque>=0: print( \"Saque efetuado - R$ %d \" % (valorsaque))\n",
        "\n",
        "saldo = saldo - valorsaque\n",
        "\n",
        "if saldo>=0: print(\"Seu saldo atual é R$ %d \" % (saldo))\n",
        "\n",
        "valorsaque = 25\n",
        "\n",
        "if saldo-valorsaque<0: c\n",
        "\n",
        "if saldo>=0: print(\"Seu saldo atual é R$ %d \" % (saldo))"
      ],
      "metadata": {
        "colab": {
          "base_uri": "https://localhost:8080/"
        },
        "id": "Hilhn_3tT8yu",
        "outputId": "826db9ec-cbd6-4ef7-9609-5d4c819d877b"
      },
      "execution_count": null,
      "outputs": [
        {
          "output_type": "stream",
          "name": "stdout",
          "text": [
            "Seu saldo atual é R$ 100 \n",
            "Saque efetuado - R$ 80 \n",
            "Seu saldo atual é R$ 20 \n",
            "Saque efetuado - R$ 10 \n",
            "Seu saldo atual é R$ 10 \n",
            "Saque não efetuado no valor de R$ 25 \n",
            "Seu saldo atual é R$ 10 \n"
          ]
        }
      ]
    },
    {
      "cell_type": "code",
      "source": [
        "#if #else\n",
        "mensagem = \" if(true): #code A - else: #code B \"\n",
        "print(\"Você digitou: \"+mensagem)\n",
        " \n",
        "\n",
        "saldo =100\n",
        "\n",
        "if saldo>=0:\n",
        "  print(\"Seu saldo atual é R$ %d \" % (saldo))\n",
        "else:\n",
        "  print(\" Seu saldo atual é (negativo) R$ %d \" % (saldo))\n",
        "\n",
        "valorsaque = 80\n",
        "\n",
        "if (saldo-valorsaque)>=0:\n",
        " # efetuar o saque\n",
        " print(\"Saque efetuado - R$ %d \" % (valorsaque))\n",
        " saldo = saldo - valorsaque\n",
        "else:\n",
        " print(\"Saque não efetuado no valor de R$ %d \" % (valorsaque))\n",
        "if saldo>=0:\n",
        "  print(\"Seu saldo atual é R$ %d \" % (saldo))\n",
        "\n",
        "  valorsaque = 10\n",
        "\n",
        "if (saldo-valorsaque)>=0:\n",
        " # efetuar o saque\n",
        " print(\"Saque efetuado - R$ %d \" % (valorsaque))\n",
        " saldo = saldo - valorsaque\n",
        "else:\n",
        " print(\"Saque não efetuado no valor de R$ %d \" % (valorsaque))\n",
        "if saldo>=0:\n",
        "  print(\"Seu saldo atual é R$ %d \" % (saldo))\n",
        "\n",
        "  valorsaque = 25\n",
        "\n",
        "if (saldo-valorsaque)>=0:\n",
        " # efetuar o saque\n",
        " print(\"Saque efetuado - R$ %d \" % (valorsaque))\n",
        " saldo = saldo - valorsaque\n",
        "else:\n",
        " print(\"Saque não efetuado no valor de R$ %d \" % (valorsaque))\n",
        "if saldo>=0:\n",
        "  print(\"Seu saldo atual é R$ %d \" % (saldo))\n",
        "\n",
        "\n"
      ],
      "metadata": {
        "colab": {
          "base_uri": "https://localhost:8080/"
        },
        "id": "mjjVha-MhkkW",
        "outputId": "cd2351a1-aa18-45ed-ec45-a90255fe9d21"
      },
      "execution_count": null,
      "outputs": [
        {
          "output_type": "stream",
          "name": "stdout",
          "text": [
            "Você digitou:  if(true): #code A - else: #code B \n",
            "Seu saldo atual é R$ 100 \n",
            "Saque efetuado - R$ 80 \n",
            "Seu saldo atual é R$ 20 \n",
            "Saque efetuado - R$ 10 \n",
            "Seu saldo atual é R$ 10 \n",
            "Saque não efetuado no valor de R$ 25 \n",
            "Seu saldo atual é R$ 10 \n"
          ]
        }
      ]
    },
    {
      "cell_type": "code",
      "source": [
        "#if #else #ifel\n",
        "#saldo é R$100,0\n",
        "#limite cheque especial R$200,00\n",
        "#if elif else\n",
        "\n",
        "saldo = 0\n",
        "limite = 0\n",
        "\n",
        "if (saldo>0):\n",
        "  print(\"saldo atual sem limite é: R$ %d \" % (saldo))\n",
        "elif (limite>0):\n",
        "  print(\"saldo no limite é: R$ %d \" % (limite))\n",
        "else:\n",
        "  print(\"saldo atual sem limite é: R$ %d \" % (saldo))\n",
        "  print(\"saldo no limite é: R$ %d \" % (limite))\n",
        "\n"
      ],
      "metadata": {
        "colab": {
          "base_uri": "https://localhost:8080/"
        },
        "id": "aP-AeWNp-CME",
        "outputId": "fe808165-0f28-41b9-aff5-e9c42da5fce4"
      },
      "execution_count": null,
      "outputs": [
        {
          "output_type": "stream",
          "name": "stdout",
          "text": [
            "saldo atual sem limite é: R$ 0 \n",
            "saldo no limite é: R$ 0 \n"
          ]
        }
      ]
    },
    {
      "cell_type": "code",
      "source": [
        "# while #for\n",
        "\n",
        "numero = 1\n",
        "\n",
        "while numero <11:\n",
        "  print(\"número %d \" % (numero))\n",
        "  numero = numero + 1\n",
        "\n",
        "\n",
        "print(\"fim do processamento com o loop while\")\n"
      ],
      "metadata": {
        "colab": {
          "base_uri": "https://localhost:8080/"
        },
        "id": "d0TzQ4AoCFF_",
        "outputId": "d544eac7-ecf1-49b3-8b69-484e48e7bc0e"
      },
      "execution_count": null,
      "outputs": [
        {
          "output_type": "stream",
          "name": "stdout",
          "text": [
            "número 1 \n",
            "número 2 \n",
            "número 3 \n",
            "número 4 \n",
            "número 5 \n",
            "número 6 \n",
            "número 7 \n",
            "número 8 \n",
            "número 9 \n",
            "número 10 \n",
            "fim do processamento com o loop while\n"
          ]
        }
      ]
    },
    {
      "cell_type": "code",
      "source": [
        "# quantidade de vendas - contador\n",
        "# valor medio das vendas\n",
        "# valor total das vendas\n",
        "\n",
        "# enquanto o número -1\n",
        "\n",
        "dadovenda = 0\n",
        "contador = 0\n",
        "valormediodasvendas = 0\n",
        "valortotaldasvendas = 0\n",
        "\n",
        "while dadovenda>=0:\n",
        "  dadovenda = int(input(\"digite o valor da venda, ou -1 para finalizar.\\n\"))\n",
        "  if dadovenda>=0:\n",
        "    contador = contador + 1\n",
        "    valortotaldasvendas = valortotaldasvendas + dadovenda\n",
        "  valormediodasvendas = valortotaldasvendas / contador\n",
        "  print(\"total das vendas: %d \" % (valortotaldasvendas))\n",
        "  print(\"media das vendas: %d \" % (valormediodasvendas))\n",
        "  print(\"quantidade de vendas: %d \" % (contador))\n",
        "\n",
        "\n"
      ],
      "metadata": {
        "colab": {
          "base_uri": "https://localhost:8080/"
        },
        "id": "KCSsBCrxIGw4",
        "outputId": "cc92a9b4-f3e4-4daa-fecd-1db4a863ff14"
      },
      "execution_count": null,
      "outputs": [
        {
          "output_type": "stream",
          "name": "stdout",
          "text": [
            "digite o valor da venda, ou -1 para finalizar.\n",
            "1\n",
            "total das vendas: 1 \n",
            "media das vendas: 1 \n",
            "quantidade de vendas: 1 \n",
            "digite o valor da venda, ou -1 para finalizar.\n",
            "2\n",
            "total das vendas: 3 \n",
            "media das vendas: 1 \n",
            "quantidade de vendas: 2 \n",
            "digite o valor da venda, ou -1 para finalizar.\n",
            "3\n",
            "total das vendas: 6 \n",
            "media das vendas: 2 \n",
            "quantidade de vendas: 3 \n",
            "digite o valor da venda, ou -1 para finalizar.\n",
            "-1\n",
            "total das vendas: 6 \n",
            "media das vendas: 2 \n",
            "quantidade de vendas: 3 \n"
          ]
        }
      ]
    },
    {
      "cell_type": "code",
      "source": [
        "#for\n",
        "#laco for simples\n",
        "#sequencia = [10,11,12,13,14,15,16]\n",
        "#for x in sequencia\n",
        "\n",
        "\n",
        "sequencia = [10,11,12,13,14,15,16]\n",
        "for x in sequencia:\n",
        "  print(x)\n",
        "  print(\"numero: %d \" % (x))"
      ],
      "metadata": {
        "colab": {
          "base_uri": "https://localhost:8080/"
        },
        "id": "dxJDs4-CNDo9",
        "outputId": "960706a3-83b6-4721-ecdf-a8c2b3d0f187"
      },
      "execution_count": null,
      "outputs": [
        {
          "output_type": "stream",
          "name": "stdout",
          "text": [
            "10\n",
            "numero: 10 \n",
            "11\n",
            "numero: 11 \n",
            "12\n",
            "numero: 12 \n",
            "13\n",
            "numero: 13 \n",
            "14\n",
            "numero: 14 \n",
            "15\n",
            "numero: 15 \n",
            "16\n",
            "numero: 16 \n"
          ]
        }
      ]
    },
    {
      "cell_type": "code",
      "source": [
        "# laco for simples com tuplas\n",
        "#tupla = [10,\"laranja\",13]\n",
        "#for x in sequencia\n",
        "#codigo\n",
        "#codigo\n",
        "#codigo\n",
        "\n",
        "tupla = [10,\"laranja\",13,\"carro\",2+4j,0xff,0o22, \"wainer freitas dimas\"]\n",
        "for x in tupla:\n",
        "  print(x)"
      ],
      "metadata": {
        "colab": {
          "base_uri": "https://localhost:8080/"
        },
        "id": "oLEY_K1BOqz0",
        "outputId": "bc6e6886-85a4-433c-edb8-5c4174406cb2"
      },
      "execution_count": null,
      "outputs": [
        {
          "output_type": "stream",
          "name": "stdout",
          "text": [
            "10\n",
            "laranja\n",
            "13\n",
            "carro\n",
            "(2+4j)\n",
            "255\n",
            "18\n",
            "wainer freitas dimas\n"
          ]
        }
      ]
    },
    {
      "cell_type": "code",
      "source": [
        "#escrever um algoritmo que receba o valor com preco dos combustiveis\n",
        "#calcule a diferença de valores entre ethanol e gasolina\n",
        "#se o resultado for inferior a 0,7 o ethanol e melhor para abastecer\n",
        "#se o resultado for superior a 0,7 a gasolina e melhor para abastecer\n",
        "\n",
        "precoethanol = float(input(\"digite o preco do ethanol   : \"))\n",
        "precogasolina = float(input(\"digite o preco da gasolina   : \"))\n",
        "\n",
        "diferenca = 0.00\n",
        "\n",
        "if(precogasolina > 0):\n",
        "  diferenca = precoethanol / precogasolina\n",
        "  print(\"a diferenca entre ethanol x gasolina é: \", diferenca)\n",
        "  \n",
        "if(diferenca<0.7):\n",
        "    print(\"abasteca com ethanol.\")\n",
        "else:\n",
        "    print(\"abasteca com gasolina.\")\n",
        "\n",
        "\n",
        "\n",
        "\n",
        "\n"
      ],
      "metadata": {
        "colab": {
          "base_uri": "https://localhost:8080/"
        },
        "id": "3JT1DPSTRA6l",
        "outputId": "28e94c37-7689-44c4-f83b-dfc282f49bdd"
      },
      "execution_count": 1,
      "outputs": [
        {
          "output_type": "stream",
          "name": "stdout",
          "text": [
            "digite o preco do ethanol   : 3.77\n",
            "digite o preco da gasolina   : 4.55\n",
            "a diferenca entre ethanol x gasolina é:  0.8285714285714286\n",
            "abasteca com gasolina.\n"
          ]
        }
      ]
    },
    {
      "cell_type": "code",
      "source": [
        "# entrada de dados (todo programa tem) - tipo de dado utilizado ( impacta em definicao de tabela de dados e consumo de memoria)\n",
        "# escreva um preograma em Python que receba dois números inteiros\n",
        "# processamento - calculo - dados que estao em memoria\n",
        "# e calcular a diferenca entre valor do primeiro numero em relacao ao segundo numero\n",
        "# processamento - calculo\n",
        "# e em seguida apresente o seu sucessor e antecessor\n",
        "# [-1,0,1,2,3,4,5,6,7,8,9,10]\n",
        "\n",
        "# declaracao de variveis\n",
        "diferenca = 0\n",
        "sucessor = 0\n",
        "anecessor = 0\n",
        "valorA = 0\n",
        "valorB = 0\n",
        "\n",
        "#entrada de dados\n",
        "valorA = int(input(\"valor de A? \"))\n",
        "valorB = int(input(\"valor de B? \"))\n",
        "\n",
        "\n",
        "diferenca = valorA - valorB\n",
        "\n",
        "sucessor = diferenca + 1\n",
        "antecessor = diferenca - 1\n",
        "\n",
        "print (\"valorA, valorB: \",valorA, valorB)\n",
        "\n",
        "print (\"diferenca: \", diferenca)\n",
        "print (\"sucessor, antecessor: \", sucessor, antecessor)"
      ],
      "metadata": {
        "colab": {
          "base_uri": "https://localhost:8080/"
        },
        "id": "vVEFaxAukBLh",
        "outputId": "1050af7b-1af8-40cf-a468-2c7a160aafd6"
      },
      "execution_count": 3,
      "outputs": [
        {
          "output_type": "stream",
          "name": "stdout",
          "text": [
            "valor de A? 5\n",
            "valor de B? 12\n",
            "valorA, valorB:  5 12\n",
            "diferenca:  -7\n",
            "sucessor, antecessor:  -6 -8\n"
          ]
        }
      ]
    },
    {
      "cell_type": "code",
      "source": [],
      "metadata": {
        "id": "S864r4wDBna1"
      },
      "execution_count": null,
      "outputs": []
    }
  ]
}